{
 "cells": [
  {
   "cell_type": "markdown",
   "metadata": {},
   "source": [
    "## Trabalho de Álgebra e Geometria Analítica\n",
    "#### Integrantes: Pedro Calderón Nunes, Isaac Lovisi, Lucas Oliveira de Carvalho Mendes, Claudiano Pinto de Oliveira Júnior\n",
    "\n",
    "##### Programa que resolve sistemas lineares pelo método da eliminação de gauss."
   ]
  },
  {
   "cell_type": "code",
   "execution_count": 1,
   "metadata": {},
   "outputs": [],
   "source": [
    "def zerar_item_pivo(linha_pivo: list, linha_a_zerar: list, constante: float) -> list:\n",
    "    \"\"\"\n",
    "    Subtrai uma linha por uma constante * linha pivô\n",
    "    Linha_pivo = linha que terá os elementos zerados abaixo\n",
    "    Isso zera o item abaixo do pivô (degrau) da escadinha\n",
    "    \"\"\"\n",
    "\n",
    "    linha_pivo = [linha_pivo[k] * constante for k in range(len(linha_pivo))]\n",
    "    return [linha_a_zerar[k] - linha_pivo[k] for k in range(len(linha_pivo))]\n",
    "\n"
   ]
  },
  {
   "cell_type": "code",
   "execution_count": 2,
   "metadata": {},
   "outputs": [],
   "source": [
    "def dividir_linha(linha: list, constante: float):\n",
    "    \"\"\"\n",
    "    Divide uma linha por uma constante\n",
    "    \"\"\"\n",
    "    return [linha[i] / constante for i in range(len(linha))]\n"
   ]
  },
  {
   "cell_type": "code",
   "execution_count": 3,
   "metadata": {},
   "outputs": [],
   "source": [
    "def zerar_elementos_abaixo(matriz: list, i: int, j: int, reverse: bool = False):\n",
    "    \n",
    "    degrau: float = matriz[i][j] # degrau -> parte da escadinha\n",
    "    linha_degrau = matriz[i] \n",
    "    if reverse:\n",
    "        inicio = i - 1\n",
    "        fim = -1\n",
    "        passo = -1\n",
    "    else:\n",
    "        inicio = i + 1\n",
    "        fim = len(matriz)\n",
    "        passo = 1\n",
    "    \n",
    "    for k in range(inicio, fim, passo): # percorrer os itens abaixo do degrau\n",
    "        if matriz[k][j] == 0: # verifica se o item abaixo já está zerado \n",
    "             pass\n",
    "        else:\n",
    "            constante = matriz[k][j] / degrau # Ln = Ln - k * Lx, k = matriz[x, j] / matriz [n, j]\n",
    "            matriz[k] = zerar_item_pivo(linha_degrau, matriz[k], constante)\n",
    "    return matriz\n",
    "    "
   ]
  },
  {
   "cell_type": "code",
   "execution_count": 4,
   "metadata": {},
   "outputs": [],
   "source": [
    "\n",
    "def receber_incognitas() -> list:\n",
    "    \"\"\"\n",
    "    Recebe uma string e a transforma em uma lista de incognitas\n",
    "    \"\"\"\n",
    "    lista_incognitas = input(\"Digite a matriz dos coeficientes, separadas por vírgulas: \\n\")\n",
    "    lista_incognitas = lista_incognitas.strip(\",\")\n",
    "    lista_incognitas = lista_incognitas.split()\n",
    "    return lista_incognitas\n",
    "\n"
   ]
  },
  {
   "cell_type": "code",
   "execution_count": 5,
   "metadata": {},
   "outputs": [],
   "source": [
    "def receber_matriz() -> list:\n",
    "    \"\"\"\n",
    "    Recebe uma string e a transforma em uma matriz de floats\n",
    "    \"\"\"\n",
    "    matriz = input(\"Digite a matriz aumentada (números separados por espaços são da mesma linha e a vírgula é a quebra de linha): \\n\")\n",
    "    matriz = matriz.split(\",\")\n",
    "    for i, item in enumerate(matriz):\n",
    "        item = item.strip()\n",
    "        item = list(map(float, item.split()))\n",
    "        matriz[i] = item\n",
    "    return matriz"
   ]
  },
  {
   "cell_type": "code",
   "execution_count": 6,
   "metadata": {},
   "outputs": [],
   "source": [
    "def linhas_validas(matriz: list) -> bool:\n",
    "\n",
    "    \"\"\"\n",
    "    Verifica validade das linhas\n",
    "    \"\"\"\n",
    "\n",
    "    tamanho = len(matriz[0])\n",
    "    if tamanho < 2: # verifica se a matriz pode ser aumentada(pelo menos 1 coluna resultado e outra dos coeficientes)\n",
    "        return False\n",
    "    for i in range(1, len(matriz)): # verifica se todas as linhas da matriz possuem o mesmo número de elementos\n",
    "        if len(matriz[i]) != tamanho: \n",
    "            return False\n",
    "    return True"
   ]
  },
  {
   "cell_type": "code",
   "execution_count": 7,
   "metadata": {},
   "outputs": [],
   "source": [
    "def eh_linha_nao_nula(linha: list) -> bool:\n",
    "\n",
    "    \"\"\"\n",
    "    Verifica se a linha é composta apenas por elementos 0\n",
    "    \"\"\"\n",
    "\n",
    "    saldo = 0\n",
    "    for item in linha: saldo += abs(item)\n",
    "    return bool(saldo)"
   ]
  },
  {
   "cell_type": "code",
   "execution_count": 8,
   "metadata": {},
   "outputs": [],
   "source": [
    "def eh_coluna_nao_nula(matriz: list, j: int) -> bool:\n",
    "\n",
    "    \"\"\"\n",
    "    Verifica se a coluna i é composta apenas por elementos 0\n",
    "    \"\"\"\n",
    "    saldo = 0\n",
    "\n",
    "    for i in range(len(matriz)): saldo += abs(matriz[i][j])\n",
    "    return bool(saldo)"
   ]
  },
  {
   "cell_type": "code",
   "execution_count": 9,
   "metadata": {},
   "outputs": [
    {
     "name": "stdout",
     "output_type": "stream",
     "text": [
      "x, = 1.897435897435896\n",
      "y, = 6.743589743589742\n",
      "z = -16.153846153846146\n"
     ]
    }
   ],
   "source": [
    "# main\n",
    "\n",
    "matriz: list = receber_matriz()\n",
    "while not linhas_validas(matriz):\n",
    "    print(\"Digite uma matriz válida!!\\n\\n\")\n",
    "    matriz: list = receber_matriz()\n",
    "\n",
    "\n",
    "incognitas: list = receber_incognitas()\n",
    "\n",
    "while len(incognitas) != len(matriz[0])- 1: # verifica se o numero de incognitas é igual ao numero de colunas  \n",
    "    print(\"Insira uma quantidade válida de incógnitas\")\n",
    "    incognitas = receber_incognitas()\n",
    "\n",
    "for i in range(len(matriz[0])): # deleta as colunas totalmente nulas\n",
    "    if not eh_coluna_nao_nula(matriz, i): # contraintuitivo, pq i vira j\n",
    "        for j in range(len(matriz)):\n",
    "            del matriz[j][i]\n",
    "\n",
    "for i in range(len(matriz)): # deleta as linhas totalmente nulas\n",
    "    if not eh_linha_nao_nula(matriz[i]):\n",
    "        del matriz[i]\n",
    "    \n",
    "i=0\n",
    "j=0\n",
    "\n",
    "# transforma a matriz em uma triangular superior, com os itens da escada sendo iguais a 1\n",
    "while i < len(matriz):\n",
    "    while j < len(matriz[i]) - 1:\n",
    "        if matriz[i][j] != 0:\n",
    "            matriz = zerar_elementos_abaixo(matriz, i, j)\n",
    "            matriz[i] = dividir_linha(matriz[i], matriz[i][j])\n",
    "            i += 1\n",
    "            j += 1\n",
    "            break\n",
    "        \n",
    "        else:\n",
    "            matriz.append(matriz[i])\n",
    "            del matriz[i]\n",
    "\n",
    "\n",
    "i = len(matriz) - 1\n",
    "j = i\n",
    "while i > 0:\n",
    "    matriz = zerar_elementos_abaixo(matriz, i, j, reverse = True)\n",
    "    i -= 1\n",
    "    j -= 1\n",
    "\n",
    "for i, incognita in enumerate(incognitas):\n",
    "    print(f\"{incognita} = {matriz[i][len(matriz)]}\")"
   ]
  }
 ],
 "metadata": {
  "kernelspec": {
   "display_name": "Python 3",
   "language": "python",
   "name": "python3"
  },
  "language_info": {
   "codemirror_mode": {
    "name": "ipython",
    "version": 3
   },
   "file_extension": ".py",
   "mimetype": "text/x-python",
   "name": "python",
   "nbconvert_exporter": "python",
   "pygments_lexer": "ipython3",
   "version": "3.12.3"
  }
 },
 "nbformat": 4,
 "nbformat_minor": 2
}
